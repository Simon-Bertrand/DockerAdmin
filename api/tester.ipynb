{
 "cells": [
  {
   "cell_type": "code",
   "execution_count": 1,
   "metadata": {},
   "outputs": [],
   "source": [
    "import docker\n",
    "d = docker.DockerClient()\n"
   ]
  },
  {
   "cell_type": "code",
   "execution_count": 2,
   "metadata": {},
   "outputs": [],
   "source": [
    "import socketio"
   ]
  },
  {
   "cell_type": "code",
   "execution_count": 4,
   "metadata": {},
   "outputs": [
    {
     "ename": "ConnectionError",
     "evalue": "Connection refused by the server",
     "output_type": "error",
     "traceback": [
      "\u001b[1;31m---------------------------------------------------------------------------\u001b[0m",
      "\u001b[1;31mConnectionError\u001b[0m                           Traceback (most recent call last)",
      "Cell \u001b[1;32mIn[4], line 15\u001b[0m\n\u001b[0;32m      9\u001b[0m \u001b[39m@sio\u001b[39m\u001b[39m.\u001b[39mon(\u001b[39m'\u001b[39m\u001b[39m*\u001b[39m\u001b[39m'\u001b[39m)\n\u001b[0;32m     10\u001b[0m \u001b[39mdef\u001b[39;00m \u001b[39mcatch_all\u001b[39m(event, data):\n\u001b[0;32m     11\u001b[0m     \u001b[39mprint\u001b[39m(data)\n\u001b[1;32m---> 15\u001b[0m \u001b[39mawait\u001b[39;00m sio\u001b[39m.\u001b[39mconnect(\u001b[39m'\u001b[39m\u001b[39mhttp://localhost:5000/\u001b[39m\u001b[39m'\u001b[39m)\n\u001b[0;32m     16\u001b[0m \u001b[39mawait\u001b[39;00m sio\u001b[39m.\u001b[39mwait()\n",
      "File \u001b[1;32md:\\Save\\Etudes\\Data Science\\Programmes\\DockerAdmin\\dockeradmin\\.venv\\lib\\site-packages\\socketio\\asyncio_client.py:149\u001b[0m, in \u001b[0;36mAsyncClient.connect\u001b[1;34m(self, url, headers, auth, transports, namespaces, socketio_path, wait, wait_timeout)\u001b[0m\n\u001b[0;32m    145\u001b[0m \u001b[39mexcept\u001b[39;00m engineio\u001b[39m.\u001b[39mexceptions\u001b[39m.\u001b[39mConnectionError \u001b[39mas\u001b[39;00m exc:\n\u001b[0;32m    146\u001b[0m     \u001b[39mawait\u001b[39;00m \u001b[39mself\u001b[39m\u001b[39m.\u001b[39m_trigger_event(\n\u001b[0;32m    147\u001b[0m         \u001b[39m'\u001b[39m\u001b[39mconnect_error\u001b[39m\u001b[39m'\u001b[39m, \u001b[39m'\u001b[39m\u001b[39m/\u001b[39m\u001b[39m'\u001b[39m,\n\u001b[0;32m    148\u001b[0m         exc\u001b[39m.\u001b[39margs[\u001b[39m1\u001b[39m] \u001b[39mif\u001b[39;00m \u001b[39mlen\u001b[39m(exc\u001b[39m.\u001b[39margs) \u001b[39m>\u001b[39m \u001b[39m1\u001b[39m \u001b[39melse\u001b[39;00m exc\u001b[39m.\u001b[39margs[\u001b[39m0\u001b[39m])\n\u001b[1;32m--> 149\u001b[0m     \u001b[39mraise\u001b[39;00m exceptions\u001b[39m.\u001b[39mConnectionError(exc\u001b[39m.\u001b[39margs[\u001b[39m0\u001b[39m]) \u001b[39mfrom\u001b[39;00m \u001b[39mNone\u001b[39;00m\n\u001b[0;32m    151\u001b[0m \u001b[39mif\u001b[39;00m wait:\n\u001b[0;32m    152\u001b[0m     \u001b[39mtry\u001b[39;00m:\n",
      "\u001b[1;31mConnectionError\u001b[0m: Connection refused by the server"
     ]
    }
   ],
   "source": [
    "import asyncio\n",
    "import socketio\n",
    "\n",
    "sio = socketio.AsyncClient()\n",
    "\n",
    "\n",
    "\n",
    "\n",
    "@sio.on('*')\n",
    "def catch_all(event, data):\n",
    "    print(data)\n",
    "\n",
    "\n",
    "\n",
    "await sio.connect('http://localhost:5000/')\n",
    "await sio.wait()\n",
    "\n"
   ]
  },
  {
   "cell_type": "code",
   "execution_count": null,
   "metadata": {},
   "outputs": [],
   "source": []
  }
 ],
 "metadata": {
  "kernelspec": {
   "display_name": ".venv",
   "language": "python",
   "name": "python3"
  },
  "language_info": {
   "codemirror_mode": {
    "name": "ipython",
    "version": 3
   },
   "file_extension": ".py",
   "mimetype": "text/x-python",
   "name": "python",
   "nbconvert_exporter": "python",
   "pygments_lexer": "ipython3",
   "version": "3.10.0"
  },
  "orig_nbformat": 4
 },
 "nbformat": 4,
 "nbformat_minor": 2
}
