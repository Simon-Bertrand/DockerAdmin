{
 "cells": [
  {
   "cell_type": "code",
   "execution_count": 1,
   "metadata": {},
   "outputs": [],
   "source": [
    "import docker\n",
    "from utils.docker.dockercli import DockerCli, DockerCliStats\n",
    "import threading\n",
    "d = docker.DockerClient()\n"
   ]
  },
  {
   "cell_type": "code",
   "execution_count": 2,
   "metadata": {},
   "outputs": [],
   "source": [
    "import shlex,os\n",
    "os.system(\"docker \"+ \"stats\" + ' '+ \"backend\" +  ' --format \"{{ json . }}\"')"
   ]
  },
  {
   "cell_type": "code",
   "execution_count": 5,
   "metadata": {},
   "outputs": [
    {
     "name": "stdout",
     "output_type": "stream",
     "text": [
      "Success fully started the thread : cli~#backend\n"
     ]
    }
   ],
   "source": [
    "val=[None]\n",
    "DockerCli.stream_process(\"stats\", \"backend\", val, DockerCliStats.parse, signal=threading.Event())"
   ]
  },
  {
   "cell_type": "code",
   "execution_count": 27,
   "metadata": {},
   "outputs": [
    {
     "ename": "NotImplementedError",
     "evalue": "",
     "output_type": "error",
     "traceback": [
      "\u001b[1;31m---------------------------------------------------------------------------\u001b[0m",
      "\u001b[1;31mNotImplementedError\u001b[0m                       Traceback (most recent call last)",
      "Cell \u001b[1;32mIn[27], line 7\u001b[0m\n\u001b[0;32m      4\u001b[0m loop \u001b[39m=\u001b[39m asyncio\u001b[39m.\u001b[39mProactorEventLoop()\n\u001b[0;32m      5\u001b[0m asyncio\u001b[39m.\u001b[39mset_event_loop(loop)\n\u001b[1;32m----> 7\u001b[0m \u001b[39mawait\u001b[39;00m asyncio\u001b[39m.\u001b[39mcreate_subprocess_shell(\u001b[39m'\u001b[39m\u001b[39mecho\u001b[39m\u001b[39m'\u001b[39m, \u001b[39m'\u001b[39m\u001b[39mHello World\u001b[39m\u001b[39m'\u001b[39m)\n",
      "File \u001b[1;32m~\\AppData\\Local\\Programs\\Python\\Python310\\lib\\asyncio\\subprocess.py:205\u001b[0m, in \u001b[0;36mcreate_subprocess_shell\u001b[1;34m(cmd, stdin, stdout, stderr, limit, **kwds)\u001b[0m\n\u001b[0;32m    202\u001b[0m loop \u001b[39m=\u001b[39m events\u001b[39m.\u001b[39mget_running_loop()\n\u001b[0;32m    203\u001b[0m protocol_factory \u001b[39m=\u001b[39m \u001b[39mlambda\u001b[39;00m: SubprocessStreamProtocol(limit\u001b[39m=\u001b[39mlimit,\n\u001b[0;32m    204\u001b[0m                                                     loop\u001b[39m=\u001b[39mloop)\n\u001b[1;32m--> 205\u001b[0m transport, protocol \u001b[39m=\u001b[39m \u001b[39mawait\u001b[39;00m loop\u001b[39m.\u001b[39msubprocess_shell(\n\u001b[0;32m    206\u001b[0m     protocol_factory,\n\u001b[0;32m    207\u001b[0m     cmd, stdin\u001b[39m=\u001b[39mstdin, stdout\u001b[39m=\u001b[39mstdout,\n\u001b[0;32m    208\u001b[0m     stderr\u001b[39m=\u001b[39mstderr, \u001b[39m*\u001b[39m\u001b[39m*\u001b[39mkwds)\n\u001b[0;32m    209\u001b[0m \u001b[39mreturn\u001b[39;00m Process(transport, protocol, loop)\n",
      "File \u001b[1;32m~\\AppData\\Local\\Programs\\Python\\Python310\\lib\\asyncio\\base_events.py:1619\u001b[0m, in \u001b[0;36mBaseEventLoop.subprocess_shell\u001b[1;34m(self, protocol_factory, cmd, stdin, stdout, stderr, universal_newlines, shell, bufsize, encoding, errors, text, **kwargs)\u001b[0m\n\u001b[0;32m   1617\u001b[0m     debug_log \u001b[39m=\u001b[39m \u001b[39m'\u001b[39m\u001b[39mrun shell command \u001b[39m\u001b[39m%r\u001b[39;00m\u001b[39m'\u001b[39m \u001b[39m%\u001b[39m cmd\n\u001b[0;32m   1618\u001b[0m     \u001b[39mself\u001b[39m\u001b[39m.\u001b[39m_log_subprocess(debug_log, stdin, stdout, stderr)\n\u001b[1;32m-> 1619\u001b[0m transport \u001b[39m=\u001b[39m \u001b[39mawait\u001b[39;00m \u001b[39mself\u001b[39m\u001b[39m.\u001b[39m_make_subprocess_transport(\n\u001b[0;32m   1620\u001b[0m     protocol, cmd, \u001b[39mTrue\u001b[39;00m, stdin, stdout, stderr, bufsize, \u001b[39m*\u001b[39m\u001b[39m*\u001b[39mkwargs)\n\u001b[0;32m   1621\u001b[0m \u001b[39mif\u001b[39;00m \u001b[39mself\u001b[39m\u001b[39m.\u001b[39m_debug \u001b[39mand\u001b[39;00m debug_log \u001b[39mis\u001b[39;00m \u001b[39mnot\u001b[39;00m \u001b[39mNone\u001b[39;00m:\n\u001b[0;32m   1622\u001b[0m     logger\u001b[39m.\u001b[39minfo(\u001b[39m'\u001b[39m\u001b[39m%s\u001b[39;00m\u001b[39m: \u001b[39m\u001b[39m%r\u001b[39;00m\u001b[39m'\u001b[39m, debug_log, transport)\n",
      "File \u001b[1;32m~\\AppData\\Local\\Programs\\Python\\Python310\\lib\\asyncio\\base_events.py:493\u001b[0m, in \u001b[0;36mBaseEventLoop._make_subprocess_transport\u001b[1;34m(self, protocol, args, shell, stdin, stdout, stderr, bufsize, extra, **kwargs)\u001b[0m\n\u001b[0;32m    489\u001b[0m \u001b[39masync\u001b[39;00m \u001b[39mdef\u001b[39;00m \u001b[39m_make_subprocess_transport\u001b[39m(\u001b[39mself\u001b[39m, protocol, args, shell,\n\u001b[0;32m    490\u001b[0m                                      stdin, stdout, stderr, bufsize,\n\u001b[0;32m    491\u001b[0m                                      extra\u001b[39m=\u001b[39m\u001b[39mNone\u001b[39;00m, \u001b[39m*\u001b[39m\u001b[39m*\u001b[39mkwargs):\n\u001b[0;32m    492\u001b[0m \u001b[39m    \u001b[39m\u001b[39m\"\"\"Create subprocess transport.\"\"\"\u001b[39;00m\n\u001b[1;32m--> 493\u001b[0m     \u001b[39mraise\u001b[39;00m \u001b[39mNotImplementedError\u001b[39;00m\n",
      "\u001b[1;31mNotImplementedError\u001b[0m: "
     ]
    }
   ],
   "source": [
    "import asyncio\n",
    "\n",
    "\n",
    "loop = asyncio.ProactorEventLoop()\n",
    "asyncio.set_event_loop(loop)\n",
    "\n",
    "await asyncio.create_subprocess_shell('echo', 'Hello World')\n",
    "\n"
   ]
  },
  {
   "cell_type": "code",
   "execution_count": null,
   "metadata": {},
   "outputs": [],
   "source": []
  }
 ],
 "metadata": {
  "kernelspec": {
   "display_name": ".venv",
   "language": "python",
   "name": "python3"
  },
  "language_info": {
   "codemirror_mode": {
    "name": "ipython",
    "version": 3
   },
   "file_extension": ".py",
   "mimetype": "text/x-python",
   "name": "python",
   "nbconvert_exporter": "python",
   "pygments_lexer": "ipython3",
   "version": "3.10.0"
  },
  "orig_nbformat": 4
 },
 "nbformat": 4,
 "nbformat_minor": 2
}
