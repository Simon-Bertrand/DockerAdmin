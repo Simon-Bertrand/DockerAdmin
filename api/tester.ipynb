{
 "cells": [
  {
   "cell_type": "code",
   "execution_count": 1,
   "metadata": {},
   "outputs": [],
   "source": [
    "import docker\n",
    "d = docker.DockerClient()\n"
   ]
  },
  {
   "cell_type": "code",
   "execution_count": 11,
   "metadata": {},
   "outputs": [
    {
     "data": {
      "text/plain": [
       "[b'yarn run v1.22.19',\n",
       " b'$ npm-run-all check-db update-tracker start-server',\n",
       " b'$ node scripts/check-db.js',\n",
       " b'\\xe2\\x9c\\x93 DATABASE_URL is defined.',\n",
       " b'\\xe2\\x9c\\x97 Unable to connect to the database.',\n",
       " b'error Command failed with exit code 1.',\n",
       " b'info Visit https://yarnpkg.com/en/docs/cli/run for documentation about this command.',\n",
       " b'ERROR: \"check-db\" exited with 1.',\n",
       " b'error Command failed with exit code 1.',\n",
       " b'info Visit https://yarnpkg.com/en/docs/cli/run for documentation about this command.',\n",
       " b'yarn run v1.22.19',\n",
       " b'$ npm-run-all check-db update-tracker start-server',\n",
       " b'$ node scripts/check-db.js',\n",
       " b'\\xe2\\x9c\\x93 DATABASE_URL is defined.',\n",
       " b'yarn run v1.22.19',\n",
       " b'$ npm-run-all check-db update-tracker start-server',\n",
       " b'$ node scripts/check-db.js',\n",
       " b'\\xe2\\x9c\\x93 DATABASE_URL is defined.',\n",
       " b'\\xe2\\x9c\\x93 Database connection successful.',\n",
       " b'\\xe2\\x9c\\x93 Database tables found.',\n",
       " b'Prisma schema loaded from prisma/schema.prisma',\n",
       " b'Datasource \"db\": PostgreSQL database \"umami\", schema \"public\" at \"postgres:5432\"',\n",
       " b'',\n",
       " b'4 migrations found in prisma/migrations',\n",
       " b'',\n",
       " b'',\n",
       " b'Database schema is up to date!',\n",
       " b'',\n",
       " b'\\xe2\\x9c\\x93 Database is up to date.',\n",
       " b'$ node scripts/update-tracker.js',\n",
       " b'$ node server.js',\n",
       " b'Listening on port 3000',\n",
       " b'yarn run v1.22.19',\n",
       " b'$ npm-run-all check-db update-tracker start-server',\n",
       " b'$ node scripts/check-db.js',\n",
       " b'\\xe2\\x9c\\x93 DATABASE_URL is defined.',\n",
       " b'\\xe2\\x9c\\x93 Database connection successful.',\n",
       " b'\\xe2\\x9c\\x93 Database tables found.',\n",
       " b'Prisma schema loaded from prisma/schema.prisma',\n",
       " b'Datasource \"db\": PostgreSQL database \"umami\", schema \"public\" at \"postgres:5432\"',\n",
       " b'',\n",
       " b'4 migrations found in prisma/migrations',\n",
       " b'',\n",
       " b'',\n",
       " b'Database schema is up to date!',\n",
       " b'',\n",
       " b'\\xe2\\x9c\\x93 Database is up to date.',\n",
       " b'$ node scripts/update-tracker.js',\n",
       " b'$ node server.js',\n",
       " b'Listening on port 3000',\n",
       " b'']"
      ]
     },
     "execution_count": 11,
     "metadata": {},
     "output_type": "execute_result"
    }
   ],
   "source": []
  },
  {
   "cell_type": "code",
   "execution_count": 2,
   "metadata": {},
   "outputs": [],
   "source": [
    "import socketio"
   ]
  },
  {
   "cell_type": "code",
   "execution_count": 3,
   "metadata": {},
   "outputs": [
    {
     "ename": "ConnectionError",
     "evalue": "HTTPConnectionPool(host='localhost', port=5000): Read timed out. (read timeout=5)",
     "output_type": "error",
     "traceback": [
      "\u001b[1;31m---------------------------------------------------------------------------\u001b[0m",
      "\u001b[1;31mConnectionError\u001b[0m                           Traceback (most recent call last)",
      "Cell \u001b[1;32mIn[3], line 15\u001b[0m\n\u001b[0;32m      9\u001b[0m \u001b[39m@sio\u001b[39m\u001b[39m.\u001b[39mon(\u001b[39m'\u001b[39m\u001b[39m*\u001b[39m\u001b[39m'\u001b[39m)\n\u001b[0;32m     10\u001b[0m \u001b[39mdef\u001b[39;00m \u001b[39mcatch_all\u001b[39m(event, data):\n\u001b[0;32m     11\u001b[0m     \u001b[39mprint\u001b[39m(data)\n\u001b[1;32m---> 15\u001b[0m sio\u001b[39m.\u001b[39;49mconnect(\u001b[39m'\u001b[39;49m\u001b[39mhttp://localhost:5000/\u001b[39;49m\u001b[39m'\u001b[39;49m)\n",
      "File \u001b[1;32md:\\Save\\Etudes\\Data Science\\Programmes\\DockerAdmin\\dockeradmin\\.venv\\lib\\site-packages\\socketio\\client.py:338\u001b[0m, in \u001b[0;36mClient.connect\u001b[1;34m(self, url, headers, auth, transports, namespaces, socketio_path, wait, wait_timeout)\u001b[0m\n\u001b[0;32m    334\u001b[0m \u001b[39mexcept\u001b[39;00m engineio\u001b[39m.\u001b[39mexceptions\u001b[39m.\u001b[39mConnectionError \u001b[39mas\u001b[39;00m exc:\n\u001b[0;32m    335\u001b[0m     \u001b[39mself\u001b[39m\u001b[39m.\u001b[39m_trigger_event(\n\u001b[0;32m    336\u001b[0m         \u001b[39m'\u001b[39m\u001b[39mconnect_error\u001b[39m\u001b[39m'\u001b[39m, \u001b[39m'\u001b[39m\u001b[39m/\u001b[39m\u001b[39m'\u001b[39m,\n\u001b[0;32m    337\u001b[0m         exc\u001b[39m.\u001b[39margs[\u001b[39m1\u001b[39m] \u001b[39mif\u001b[39;00m \u001b[39mlen\u001b[39m(exc\u001b[39m.\u001b[39margs) \u001b[39m>\u001b[39m \u001b[39m1\u001b[39m \u001b[39melse\u001b[39;00m exc\u001b[39m.\u001b[39margs[\u001b[39m0\u001b[39m])\n\u001b[1;32m--> 338\u001b[0m     \u001b[39mraise\u001b[39;00m exceptions\u001b[39m.\u001b[39mConnectionError(exc\u001b[39m.\u001b[39margs[\u001b[39m0\u001b[39m]) \u001b[39mfrom\u001b[39;00m \u001b[39mNone\u001b[39;00m\n\u001b[0;32m    340\u001b[0m \u001b[39mif\u001b[39;00m wait:\n\u001b[0;32m    341\u001b[0m     \u001b[39mwhile\u001b[39;00m \u001b[39mself\u001b[39m\u001b[39m.\u001b[39m_connect_event\u001b[39m.\u001b[39mwait(timeout\u001b[39m=\u001b[39mwait_timeout):\n",
      "\u001b[1;31mConnectionError\u001b[0m: HTTPConnectionPool(host='localhost', port=5000): Read timed out. (read timeout=5)"
     ]
    }
   ],
   "source": [
    "import asyncio\n",
    "import socketio\n",
    "\n",
    "sio = socketio.Client()\n",
    "\n",
    "\n",
    "\n",
    "\n",
    "@sio.on('*')\n",
    "def catch_all(event, data):\n",
    "    print(data)\n",
    "\n",
    "\n",
    "\n",
    "sio.connect('http://localhost:5000/')\n",
    "\n",
    "\n"
   ]
  },
  {
   "cell_type": "code",
   "execution_count": null,
   "metadata": {},
   "outputs": [
    {
     "name": "stderr",
     "output_type": "stream",
     "text": [
      "packet queue is empty, aborting\n"
     ]
    }
   ],
   "source": [
    "sio.emit(\"subscribe_stats\", \"backend\")"
   ]
  },
  {
   "cell_type": "code",
   "execution_count": null,
   "metadata": {},
   "outputs": [],
   "source": [
    "sio.wait()"
   ]
  },
  {
   "cell_type": "code",
   "execution_count": null,
   "metadata": {},
   "outputs": [],
   "source": []
  }
 ],
 "metadata": {
  "kernelspec": {
   "display_name": ".venv",
   "language": "python",
   "name": "python3"
  },
  "language_info": {
   "codemirror_mode": {
    "name": "ipython",
    "version": 3
   },
   "file_extension": ".py",
   "mimetype": "text/x-python",
   "name": "python",
   "nbconvert_exporter": "python",
   "pygments_lexer": "ipython3",
   "version": "3.10.0"
  },
  "orig_nbformat": 4
 },
 "nbformat": 4,
 "nbformat_minor": 2
}
