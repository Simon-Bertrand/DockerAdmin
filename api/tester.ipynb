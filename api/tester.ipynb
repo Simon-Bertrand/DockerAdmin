{
 "cells": [
  {
   "cell_type": "code",
   "execution_count": 1,
   "metadata": {},
   "outputs": [],
   "source": [
    "import docker\n",
    "d = docker.DockerClient()\n"
   ]
  },
  {
   "cell_type": "code",
   "execution_count": 3,
   "metadata": {},
   "outputs": [
    {
     "data": {
      "text/plain": [
       "[{'star_count': 2032,\n",
       "  'is_official': True,\n",
       "  'name': 'hello-world',\n",
       "  'is_automated': False,\n",
       "  'description': 'Hello World! (an example of minimal Dockerization)'},\n",
       " {'star_count': 13,\n",
       "  'is_official': True,\n",
       "  'name': 'hello-seattle',\n",
       "  'is_automated': False,\n",
       "  'description': 'Hello from DockerCon 2016 (Seattle)!'},\n",
       " {'star_count': 4,\n",
       "  'is_official': False,\n",
       "  'name': 'rancher/hello-world',\n",
       "  'is_automated': False,\n",
       "  'description': ''},\n",
       " {'star_count': 0,\n",
       "  'is_official': False,\n",
       "  'name': 'okteto/hello-world',\n",
       "  'is_automated': False,\n",
       "  'description': ''},\n",
       " {'star_count': 0,\n",
       "  'is_official': False,\n",
       "  'name': 'circleci/hello',\n",
       "  'is_automated': False,\n",
       "  'description': 'This image is for internal use'}]"
      ]
     },
     "execution_count": 3,
     "metadata": {},
     "output_type": "execute_result"
    }
   ],
   "source": [
    "d.api._result(d.api._get(d.api._url(\"/images/search?term=Hello&limit=5\")), True)\n"
   ]
  },
  {
   "cell_type": "code",
   "execution_count": null,
   "metadata": {},
   "outputs": [],
   "source": []
  }
 ],
 "metadata": {
  "kernelspec": {
   "display_name": ".venv",
   "language": "python",
   "name": "python3"
  },
  "language_info": {
   "codemirror_mode": {
    "name": "ipython",
    "version": 3
   },
   "file_extension": ".py",
   "mimetype": "text/x-python",
   "name": "python",
   "nbconvert_exporter": "python",
   "pygments_lexer": "ipython3",
   "version": "3.10.0"
  },
  "orig_nbformat": 4
 },
 "nbformat": 4,
 "nbformat_minor": 2
}
